{
 "cells": [
  {
   "cell_type": "code",
   "execution_count": 2,
   "metadata": {},
   "outputs": [],
   "source": [
    "from methyl_aware_distance import MethylAwareDistance"
   ]
  },
  {
   "cell_type": "code",
   "execution_count": 3,
   "metadata": {},
   "outputs": [
    {
     "name": "stdout",
     "output_type": "stream",
     "text": [
      "Levenshtein: 0 0\n",
      "Hamming: 0\n"
     ]
    }
   ],
   "source": [
    "mad = MethylAwareDistance('ACTG','ATTG')\n",
    "\n",
    "print('Levenshtein:', mad.levenshtein_methyl_aware(), mad.space_efficient_levenshtein_methyl_aware())\n",
    "\n",
    "if mad.equal_length:\n",
    "\n",
    "    print('Hamming:', mad.hamming_methyl_aware(),) "
   ]
  },
  {
   "cell_type": "code",
   "execution_count": 4,
   "metadata": {},
   "outputs": [
    {
     "name": "stdout",
     "output_type": "stream",
     "text": [
      "Levenshtein: 1 1\n"
     ]
    }
   ],
   "source": [
    "mad = MethylAwareDistance('ACTG','ATTGA')\n",
    "\n",
    "print('Levenshtein:', mad.levenshtein_methyl_aware(), mad.space_efficient_levenshtein_methyl_aware())\n",
    "\n",
    "if mad.equal_length:\n",
    "\n",
    "    print('Hamming:', mad.hamming_methyl_aware(),) "
   ]
  },
  {
   "cell_type": "code",
   "execution_count": 26,
   "metadata": {},
   "outputs": [],
   "source": [
    "expected = 'ATGCGTACGTTAGCTAGGCTACGTAGCTAGCGTACGATCGTAGCTAGCGT'\n",
    "observed_CtoT = ''.join(['T' if base  == 'C' else base for base in expected])\n",
    "observed_GtoA = ''.join(['A' if base  == 'G' else base for base in expected])"
   ]
  },
  {
   "cell_type": "code",
   "execution_count": 27,
   "metadata": {},
   "outputs": [],
   "source": [
    "mad = MethylAwareDistance(expected,observed_CtoT)\n",
    "assert len(expected) == len(observed_CtoT) and (mad.equal_length == True)"
   ]
  },
  {
   "cell_type": "code",
   "execution_count": 37,
   "metadata": {},
   "outputs": [],
   "source": [
    "mad = MethylAwareDistance(expected,observed_GtoA)\n",
    "assert mad.hamming_methyl_aware() == sum([1 for base in expected if base  == 'G' ])"
   ]
  },
  {
   "cell_type": "code",
   "execution_count": 38,
   "metadata": {},
   "outputs": [],
   "source": [
    "mad = MethylAwareDistance(expected,observed_GtoA,read_1=False)\n",
    "assert mad.hamming_methyl_aware() == 0"
   ]
  },
  {
   "cell_type": "code",
   "execution_count": 42,
   "metadata": {},
   "outputs": [],
   "source": [
    "expected = 'CTCTC'\n",
    "observed_longer = 'TTTTTTT'\n",
    "mad = MethylAwareDistance(expected,observed_longer)\n",
    "assert mad.equal_length == False"
   ]
  },
  {
   "cell_type": "code",
   "execution_count": 50,
   "metadata": {},
   "outputs": [
    {
     "name": "stdout",
     "output_type": "stream",
     "text": [
      "Caught a ValueError: Error: lengths of sequences should be the same.\n",
      "Execution complete\n"
     ]
    }
   ],
   "source": [
    "try:\n",
    "    # Try Hamming distance on sequences of different length:\n",
    "    mad.hamming_methyl_aware()\n",
    "except ValueError as e:\n",
    "    print(f\"Caught a ValueError: {e}\")\n",
    "else:\n",
    "    print(\"No error occurred\")\n",
    "finally:\n",
    "    print(\"Execution complete\")"
   ]
  },
  {
   "cell_type": "code",
   "execution_count": null,
   "metadata": {},
   "outputs": [],
   "source": []
  },
  {
   "cell_type": "code",
   "execution_count": 45,
   "metadata": {},
   "outputs": [],
   "source": []
  },
  {
   "cell_type": "code",
   "execution_count": 46,
   "metadata": {},
   "outputs": [
    {
     "name": "stdout",
     "output_type": "stream",
     "text": [
      "Caught a ValueError: Error: lengths of sequences should be the same.\n",
      "Execution complete\n"
     ]
    }
   ],
   "source": [
    "test_value_error()"
   ]
  },
  {
   "cell_type": "code",
   "execution_count": null,
   "metadata": {},
   "outputs": [],
   "source": []
  }
 ],
 "metadata": {
  "kernelspec": {
   "display_name": "Python 3",
   "language": "python",
   "name": "python3"
  },
  "language_info": {
   "codemirror_mode": {
    "name": "ipython",
    "version": 3
   },
   "file_extension": ".py",
   "mimetype": "text/x-python",
   "name": "python",
   "nbconvert_exporter": "python",
   "pygments_lexer": "ipython3",
   "version": "3.11.9"
  }
 },
 "nbformat": 4,
 "nbformat_minor": 2
}
