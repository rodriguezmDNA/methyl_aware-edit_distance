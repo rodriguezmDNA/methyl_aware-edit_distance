{
 "cells": [
  {
   "cell_type": "code",
   "execution_count": 1,
   "metadata": {},
   "outputs": [],
   "source": [
    "from methyl_aware_distance import MethylAwareDistance"
   ]
  },
  {
   "cell_type": "code",
   "execution_count": 13,
   "metadata": {},
   "outputs": [
    {
     "name": "stdout",
     "output_type": "stream",
     "text": [
      "Levenshtein: 0 0\n",
      "Hamming: 0\n"
     ]
    }
   ],
   "source": [
    "mad = MethylAwareDistance('ACTG','ATTG')\n",
    "\n",
    "print('Levenshtein:', mad.levenshtein_methyl_aware(), mad.space_efficient_levenshtein_methyl_aware())\n",
    "\n",
    "if mad.equal_length:\n",
    "\n",
    "    print('Hamming:', mad.hamming_methyl_aware(),) "
   ]
  },
  {
   "cell_type": "code",
   "execution_count": 14,
   "metadata": {},
   "outputs": [
    {
     "name": "stdout",
     "output_type": "stream",
     "text": [
      "Levenshtein: 1 1\n"
     ]
    }
   ],
   "source": [
    "mad = MethylAwareDistance('ACTG','ATTGA')\n",
    "\n",
    "print('Levenshtein:', mad.levenshtein_methyl_aware(), mad.space_efficient_levenshtein_methyl_aware())\n",
    "\n",
    "if mad.equal_length:\n",
    "\n",
    "    print('Hamming:', mad.hamming_methyl_aware(),) "
   ]
  },
  {
   "cell_type": "code",
   "execution_count": 16,
   "metadata": {},
   "outputs": [],
   "source": [
    "expected = 'ATGCGTACGTTAGCTAGGCTACGTAGCTAGCGTACGATCGTAGCTAGCGT'\n",
    "observed_CtoT = 'ATGTGTACGTTAGCTAGGTTACGTAGCTAGCGTACGATCGTAGCTAGTGT'\n",
    "observed_GtoA = 'ATGCATACGTTAGCTAGGCTACGTAGCTAGCGTACGATCGTAGCTAACAT'"
   ]
  },
  {
   "cell_type": "code",
   "execution_count": 18,
   "metadata": {},
   "outputs": [
    {
     "name": "stdout",
     "output_type": "stream",
     "text": [
      "Hamming distance: 0\n"
     ]
    }
   ],
   "source": [
    "mad = MethylAwareDistance(expected,observed_CtoT)\n",
    "\n",
    "\n",
    "print('Hamming distance:', mad.hamming_methyl_aware()) "
   ]
  },
  {
   "cell_type": "code",
   "execution_count": 19,
   "metadata": {},
   "outputs": [
    {
     "name": "stdout",
     "output_type": "stream",
     "text": [
      "Hamming distance: 3\n"
     ]
    }
   ],
   "source": [
    "mad = MethylAwareDistance(expected,observed_GtoA)\n",
    "print('Hamming distance:', mad.hamming_methyl_aware()) "
   ]
  },
  {
   "cell_type": "code",
   "execution_count": 20,
   "metadata": {},
   "outputs": [
    {
     "name": "stdout",
     "output_type": "stream",
     "text": [
      "Hamming distance: 0\n"
     ]
    }
   ],
   "source": [
    "mad = MethylAwareDistance(expected,observed_GtoA,read_1=False)\n",
    "print('Hamming distance:', mad.hamming_methyl_aware()) "
   ]
  },
  {
   "cell_type": "code",
   "execution_count": null,
   "metadata": {},
   "outputs": [],
   "source": []
  }
 ],
 "metadata": {
  "kernelspec": {
   "display_name": "Python 3",
   "language": "python",
   "name": "python3"
  },
  "language_info": {
   "codemirror_mode": {
    "name": "ipython",
    "version": 3
   },
   "file_extension": ".py",
   "mimetype": "text/x-python",
   "name": "python",
   "nbconvert_exporter": "python",
   "pygments_lexer": "ipython3",
   "version": "3.11.9"
  }
 },
 "nbformat": 4,
 "nbformat_minor": 2
}
